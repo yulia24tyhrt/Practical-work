{
  "nbformat": 4,
  "nbformat_minor": 0,
  "metadata": {
    "colab": {
      "provenance": [],
      "authorship_tag": "ABX9TyMzPF2zOJt64PVCFtfnpYW/",
      "include_colab_link": true
    },
    "kernelspec": {
      "name": "python3",
      "display_name": "Python 3"
    },
    "language_info": {
      "name": "python"
    }
  },
  "cells": [
    {
      "cell_type": "markdown",
      "metadata": {
        "id": "view-in-github",
        "colab_type": "text"
      },
      "source": [
        "<a href=\"https://colab.research.google.com/github/yulia24tyhrt/artwork/blob/main/30_%D1%83%D0%BF%D1%80%D0%B0%D0%B6%D0%BD%D0%B5%D0%BD%D0%B8%D0%B9_%D0%BF%D0%BE_%D0%BF%D1%80%D0%BE%D0%B3%D1%80%D0%B0%D0%BC%D0%BC%D0%B8%D1%80%D0%BE%D0%B2%D0%B0%D0%BD%D0%B8%D1%8E_%D0%BD%D0%B0_Python_3.ipynb\" target=\"_parent\"><img src=\"https://colab.research.google.com/assets/colab-badge.svg\" alt=\"Open In Colab\"/></a>"
      ]
    },
    {
      "cell_type": "markdown",
      "source": [
        "**Упражнение 1**\n",
        "\n",
        "Напишите программу, которая найдет все такие числа, которые делятся на 7, но не кратны 5, в диапазоне от 2000 до 3200 (оба включены). Полученные числа следует вывести через запятую в одну строку."
      ],
      "metadata": {
        "id": "Onby43hif_jT"
      }
    },
    {
      "cell_type": "code",
      "execution_count": null,
      "metadata": {
        "colab": {
          "base_uri": "https://localhost:8080/"
        },
        "id": "NEbdcaWFf4g4",
        "outputId": "46b50415-1ee5-483e-cb20-aad5e0a9c3fd"
      },
      "outputs": [
        {
          "output_type": "stream",
          "name": "stdout",
          "text": [
            "2002,2009,2016,2023,2037,2044,2051,2058,2072,2079,2086,2093,2107,2114,2121,2128,2142,2149,2156,2163,2177,2184,2191,2198,2212,2219,2226,2233,2247,2254,2261,2268,2282,2289,2296,2303,2317,2324,2331,2338,2352,2359,2366,2373,2387,2394,2401,2408,2422,2429,2436,2443,2457,2464,2471,2478,2492,2499,2506,2513,2527,2534,2541,2548,2562,2569,2576,2583,2597,2604,2611,2618,2632,2639,2646,2653,2667,2674,2681,2688,2702,2709,2716,2723,2737,2744,2751,2758,2772,2779,2786,2793,2807,2814,2821,2828,2842,2849,2856,2863,2877,2884,2891,2898,2912,2919,2926,2933,2947,2954,2961,2968,2982,2989,2996,3003,3017,3024,3031,3038,3052,3059,3066,3073,3087,3094,3101,3108,3122,3129,3136,3143,3157,3164,3171,3178,3192,3199\n"
          ]
        }
      ],
      "source": [
        "l=[]\n",
        "for i in range(2000, 3201):\n",
        "    if (i%7==0) and (i%5!=0):\n",
        "        l.append(str(i))\n",
        "\n",
        "print(','.join(l))"
      ]
    },
    {
      "cell_type": "markdown",
      "source": [
        "**Упражнение 2**\n",
        "\n",
        "Напишите программу, вычисляющую факториал заданного числа. Результаты должны быть напечатаны в одной строке через запятую. Предположим, что в программу подается следующий ввод: 8. Тогда вывод должен быть: 40320."
      ],
      "metadata": {
        "id": "C03cRaTLg6AN"
      }
    },
    {
      "cell_type": "code",
      "source": [
        "def fact(x):\n",
        "    if x == 0:\n",
        "        return 1\n",
        "    return x * fact(x - 1)\n",
        "\n",
        "x=int(input())\n",
        "print(fact(x))"
      ],
      "metadata": {
        "colab": {
          "base_uri": "https://localhost:8080/"
        },
        "id": "VN4ERPNhg9Ek",
        "outputId": "81e232d8-477b-44a6-a6f4-1351a263866b"
      },
      "execution_count": null,
      "outputs": [
        {
          "output_type": "stream",
          "name": "stdout",
          "text": [
            "8\n",
            "40320\n"
          ]
        }
      ]
    },
    {
      "cell_type": "markdown",
      "source": [
        "**Упражнение 3**\n",
        "\n",
        "Имея заданное целое число n, напишите программу для создания словаря, содержащего (i, i*i), который является целым числом от 1 до n (оба включены). а затем программа должна распечатать словарь."
      ],
      "metadata": {
        "id": "uCpaGDFpg-N8"
      }
    },
    {
      "cell_type": "code",
      "source": [
        "n=int(input())\n",
        "d=dict()\n",
        "for i in range(1,n+1):\n",
        "    d[i]=i*i\n",
        "\n",
        "print(d)"
      ],
      "metadata": {
        "id": "bV3XkyhchJJs",
        "colab": {
          "base_uri": "https://localhost:8080/"
        },
        "outputId": "caeb1651-9d8c-49af-9f2d-4d52ba803476"
      },
      "execution_count": null,
      "outputs": [
        {
          "output_type": "stream",
          "name": "stdout",
          "text": [
            "1\n",
            "{1: 1}\n"
          ]
        }
      ]
    },
    {
      "cell_type": "markdown",
      "source": [
        "**Упражнение 4**\n",
        "\n",
        "Напишите программу, которая принимает из консоли последовательность чисел, разделенных запятыми, и генерирует список и кортеж, содержащий каждое число."
      ],
      "metadata": {
        "id": "Iwc9HflChK41"
      }
    },
    {
      "cell_type": "code",
      "source": [
        "values=input()\n",
        "l=values.split(\",\")\n",
        "t=tuple(l)\n",
        "print(l)\n",
        "print(t)"
      ],
      "metadata": {
        "colab": {
          "base_uri": "https://localhost:8080/"
        },
        "id": "14azPnirhTpF",
        "outputId": "63c2b4a3-595b-4409-9878-040b2ce2a077"
      },
      "execution_count": null,
      "outputs": [
        {
          "output_type": "stream",
          "name": "stdout",
          "text": [
            "34,67,55,33,12,98\n",
            "['34', '67', '55', '33', '12', '98']\n",
            "('34', '67', '55', '33', '12', '98')\n"
          ]
        }
      ]
    },
    {
      "cell_type": "markdown",
      "source": [
        "**Упражнение 5**\n",
        "\n",
        "Определите класс, который имеет как минимум два метода: getString: для получения строки из консольного ввода. printString: для печати строки в верхнем регистре. Также включите простую тестовую функцию для проверки методов класса."
      ],
      "metadata": {
        "id": "IbyPF8WchYTt"
      }
    },
    {
      "cell_type": "code",
      "source": [
        "class InputOutString(object):\n",
        "    def __init__(self):\n",
        "        self.s = \"\"\n",
        "\n",
        "    def getString(self):\n",
        "        self.s = input()\n",
        "\n",
        "    def printString(self):\n",
        "        print(self.s.upper())\n",
        "\n",
        "strObj = InputOutString()\n",
        "strObj.getString()\n",
        "strObj.printString()"
      ],
      "metadata": {
        "colab": {
          "base_uri": "https://localhost:8080/"
        },
        "id": "y5KCHbjBhkfc",
        "outputId": "0aaf4917-1cca-4fa8-9da1-81dc7b5dd113"
      },
      "execution_count": null,
      "outputs": [
        {
          "output_type": "stream",
          "name": "stdout",
          "text": [
            "4\n",
            "4\n"
          ]
        }
      ]
    },
    {
      "cell_type": "markdown",
      "source": [
        "**Упражнение 6**\n",
        "\n",
        "Напишите программу, которая вычисляет и печатает значение в соответствии с данной формулой: Q = квадратный корень из [(2 * C * D)/H] Ниже приведены фиксированные значения C и H: C равно 50. H равно 30. . D — это переменная, значения которой должны вводиться в вашу программу в последовательности, разделенной запятыми."
      ],
      "metadata": {
        "id": "Yd_kWGeBho5M"
      }
    },
    {
      "cell_type": "code",
      "source": [
        "import math\n",
        "c=50\n",
        "h=30\n",
        "value = []\n",
        "items=[x for x in input().split(',')]\n",
        "for d in items:\n",
        "    value.append(str(int(round(math.sqrt(2*c*float(d)/h)))))\n",
        "\n",
        "print(','.join(value))"
      ],
      "metadata": {
        "colab": {
          "base_uri": "https://localhost:8080/"
        },
        "id": "rY594cWZhuHM",
        "outputId": "38e5947c-bd14-40ac-fedb-4b8fe4f6d6a5"
      },
      "execution_count": null,
      "outputs": [
        {
          "output_type": "stream",
          "name": "stdout",
          "text": [
            "100,150,180\n",
            "18,22,24\n"
          ]
        }
      ]
    },
    {
      "cell_type": "markdown",
      "source": [
        "**Упражнение 7**\n",
        "\n",
        "Напишите программу, которая принимает на вход две цифры X и Y и генерирует двумерный массив. Значение элемента в i-й строке и j-м столбце массива должно быть i*j. Примечание: i=0,1.., X-1; j=0,1,¡Y-1."
      ],
      "metadata": {
        "id": "GdLTCtFHh04s"
      }
    },
    {
      "cell_type": "code",
      "source": [
        "input_str = input()\n",
        "dimensions=[int(x) for x in input_str.split(',')]\n",
        "rowNum=dimensions[0]\n",
        "colNum=dimensions[1]\n",
        "multilist = [[0 for col in range(colNum)] for row in range(rowNum)]\n",
        "\n",
        "for row in range(rowNum):\n",
        "    for col in range(colNum):\n",
        "        multilist[row][col]= row*col\n",
        "\n",
        "print(multilist)"
      ],
      "metadata": {
        "colab": {
          "base_uri": "https://localhost:8080/"
        },
        "id": "9IV-Vcu0h34k",
        "outputId": "5dfe0714-463b-48fe-bdb2-a9184ddb8caf"
      },
      "execution_count": null,
      "outputs": [
        {
          "output_type": "stream",
          "name": "stdout",
          "text": [
            "3,5\n",
            "[[0, 0, 0, 0, 0], [0, 1, 2, 3, 4], [0, 2, 4, 6, 8]]\n"
          ]
        }
      ]
    },
    {
      "cell_type": "markdown",
      "source": [
        "**Упражнение 8**\n",
        "\n",
        "Напишите программу, которая принимает на вход последовательность слов, разделенных запятыми, и печатает слова в последовательности, разделенной запятыми, после их сортировки в алфавитном порядке."
      ],
      "metadata": {
        "id": "8aihjEWpiCqc"
      }
    },
    {
      "cell_type": "code",
      "source": [
        "items=[x for x in input().split(',')]\n",
        "items.sort()\n",
        "print(','.join(items))"
      ],
      "metadata": {
        "colab": {
          "base_uri": "https://localhost:8080/"
        },
        "id": "p96kSe1yiGBc",
        "outputId": "56f36d11-22b8-45d9-f65b-582a543efa1a"
      },
      "execution_count": null,
      "outputs": [
        {
          "output_type": "stream",
          "name": "stdout",
          "text": [
            "без,привет,мешок,мир\n",
            "без,мешок,мир,привет\n"
          ]
        }
      ]
    },
    {
      "cell_type": "markdown",
      "source": [
        "**Упражнение 9**\n",
        "\n",
        "Определите функцию, которая может печатать словарь, в котором ключами являются числа от 1 до 20 (оба включены), а значениями являются квадраты ключей."
      ],
      "metadata": {
        "id": "DKucJmqziT8B"
      }
    },
    {
      "cell_type": "code",
      "source": [
        "def printDict():\n",
        "\td=dict()\n",
        "\tfor i in range(1,21):\n",
        "\t\td[i]=i**2\n",
        "\tprint(d)\n",
        "\n",
        "printDict()"
      ],
      "metadata": {
        "id": "Hb7CgOFKiWjZ",
        "colab": {
          "base_uri": "https://localhost:8080/"
        },
        "outputId": "f4bd3059-29ba-4e29-9f7b-d6999972fa15"
      },
      "execution_count": null,
      "outputs": [
        {
          "output_type": "stream",
          "name": "stdout",
          "text": [
            "{1: 1, 2: 4, 3: 9, 4: 16, 5: 25, 6: 36, 7: 49, 8: 64, 9: 81, 10: 100, 11: 121, 12: 144, 13: 169, 14: 196, 15: 225, 16: 256, 17: 289, 18: 324, 19: 361, 20: 400}\n"
          ]
        }
      ]
    },
    {
      "cell_type": "markdown",
      "source": [
        "**Упражнение 10**\n",
        "\n",
        "Напишите программу, которая принимает на вход последовательность слов, разделенных пробелами, и печатает слова после удаления всех повторяющихся слов и сортировки их по алфавиту."
      ],
      "metadata": {
        "id": "xwhvIRhOjGFM"
      }
    },
    {
      "cell_type": "code",
      "source": [
        "s = input()\n",
        "words = [word for word in s.split(\" \")]\n",
        "print(\" \".join(sorted(list(set(words)))))"
      ],
      "metadata": {
        "colab": {
          "base_uri": "https://localhost:8080/"
        },
        "id": "bn75d6GwjMul",
        "outputId": "e65a088c-7007-4d9b-d338-8dda3aa9bb72"
      },
      "execution_count": null,
      "outputs": [
        {
          "output_type": "stream",
          "name": "stdout",
          "text": [
            "hello world\n",
            "hello world\n"
          ]
        }
      ]
    },
    {
      "cell_type": "markdown",
      "source": [
        "**Упражнение 11**\n",
        "\n",
        "Напишите программу, которая принимает на вход последовательность четырехзначных двоичных чисел, разделенных запятыми, а затем проверяет, делятся ли они на 5 или нет. Числа, кратные 5, следует печатать в последовательности, разделенной запятыми."
      ],
      "metadata": {
        "id": "CmkJqAkajRk0"
      }
    },
    {
      "cell_type": "code",
      "source": [
        "value = []\n",
        "items=[x for x in input().split(',')]\n",
        "for p in items:\n",
        "    intp = int(p, 2)\n",
        "    if not intp%5:\n",
        "        value.append(p)\n",
        "\n",
        "print(','.join(value))"
      ],
      "metadata": {
        "colab": {
          "base_uri": "https://localhost:8080/"
        },
        "id": "ZJ8rpq9PjY-1",
        "outputId": "1709687c-7b32-4ff1-a872-dc67c8cc6513"
      },
      "execution_count": null,
      "outputs": [
        {
          "output_type": "stream",
          "name": "stdout",
          "text": [
            "0100,0011,1010,1001\n",
            "1010\n"
          ]
        }
      ]
    },
    {
      "cell_type": "markdown",
      "source": [
        "**Упражнение 12**\n",
        "\n",
        "Напишите программу, которая найдет все такие числа от 1000 до 3000 (оба включены) такие, что каждая цифра числа является четным числом. Полученные числа следует вывести через запятую в одну строку."
      ],
      "metadata": {
        "id": "fiQvIC0qjdas"
      }
    },
    {
      "cell_type": "code",
      "source": [
        "values = []\n",
        "for i in range(1000, 3001):\n",
        "    s = str(i)\n",
        "    if (int(s[0])%2==0) and (int(s[1])%2==0) and (int(s[2])%2==0) and (int(s[3])%2==0):\n",
        "        values.append(s)\n",
        "print(\",\".join(values))"
      ],
      "metadata": {
        "colab": {
          "base_uri": "https://localhost:8080/"
        },
        "id": "hQjWdaipjgb0",
        "outputId": "87f26d93-3225-4f88-abb5-d12a76113751"
      },
      "execution_count": null,
      "outputs": [
        {
          "output_type": "stream",
          "name": "stdout",
          "text": [
            "2000,2002,2004,2006,2008,2020,2022,2024,2026,2028,2040,2042,2044,2046,2048,2060,2062,2064,2066,2068,2080,2082,2084,2086,2088,2200,2202,2204,2206,2208,2220,2222,2224,2226,2228,2240,2242,2244,2246,2248,2260,2262,2264,2266,2268,2280,2282,2284,2286,2288,2400,2402,2404,2406,2408,2420,2422,2424,2426,2428,2440,2442,2444,2446,2448,2460,2462,2464,2466,2468,2480,2482,2484,2486,2488,2600,2602,2604,2606,2608,2620,2622,2624,2626,2628,2640,2642,2644,2646,2648,2660,2662,2664,2666,2668,2680,2682,2684,2686,2688,2800,2802,2804,2806,2808,2820,2822,2824,2826,2828,2840,2842,2844,2846,2848,2860,2862,2864,2866,2868,2880,2882,2884,2886,2888\n"
          ]
        }
      ]
    },
    {
      "cell_type": "markdown",
      "source": [
        "**Упражнение 13**\n",
        "\n",
        "Напишите программу, которая принимает предложение и подсчитывает количество букв и цифр.\n",
        "\n"
      ],
      "metadata": {
        "id": "rrUC02p6jik0"
      }
    },
    {
      "cell_type": "code",
      "source": [
        "s = input()\n",
        "d={\"DIGITS\":0, \"LETTERS\":0}\n",
        "for c in s:\n",
        "    if c.isdigit():\n",
        "        d[\"DIGITS\"]+=1\n",
        "    elif c.isalpha():\n",
        "        d[\"LETTERS\"]+=1\n",
        "    else:\n",
        "        pass\n",
        "print(\"LETTERS\", d[\"LETTERS\"])\n",
        "print(\"DIGITS\", d[\"DIGITS\"])"
      ],
      "metadata": {
        "colab": {
          "base_uri": "https://localhost:8080/"
        },
        "id": "_3iO9zHNjtYT",
        "outputId": "7e357082-15ee-445e-b1b5-0c25b0a973f9"
      },
      "execution_count": null,
      "outputs": [
        {
          "output_type": "stream",
          "name": "stdout",
          "text": [
            "hello world! 123\n",
            "LETTERS 10\n",
            "DIGITS 3\n"
          ]
        }
      ]
    },
    {
      "cell_type": "markdown",
      "source": [
        "**Упражнение 14**\n",
        "\n",
        "Напишите программу, которая принимает предложение и подсчитывает количество прописных и строчных букв."
      ],
      "metadata": {
        "id": "ut97HwbJjx_X"
      }
    },
    {
      "cell_type": "code",
      "source": [
        "s = input()\n",
        "d={\"UPPER CASE\":0, \"LOWER CASE\":0}\n",
        "for c in s:\n",
        "    if c.isupper():\n",
        "        d[\"UPPER CASE\"]+=1\n",
        "    elif c.islower():\n",
        "        d[\"LOWER CASE\"]+=1\n",
        "    else:\n",
        "        pass\n",
        "print(\"UPPER CASE\", d[\"UPPER CASE\"])\n",
        "print(\"LOWER CASE\", d[\"LOWER CASE\"])"
      ],
      "metadata": {
        "colab": {
          "base_uri": "https://localhost:8080/"
        },
        "id": "d5M7elhij4Kc",
        "outputId": "72e56625-786c-47f3-e25c-9b51db894127"
      },
      "execution_count": null,
      "outputs": [
        {
          "output_type": "stream",
          "name": "stdout",
          "text": [
            "Привет, мир!\n",
            "UPPER CASE 1\n",
            "LOWER CASE 8\n"
          ]
        }
      ]
    },
    {
      "cell_type": "markdown",
      "source": [
        "**Упражнениме 15**\n",
        "\n",
        "Напишите программу, которая вычисляет значение a+aa+aaa+aaaa, используя заданную цифру в качестве значения a."
      ],
      "metadata": {
        "id": "zW7j2T2qkBT8"
      }
    },
    {
      "cell_type": "code",
      "source": [
        "a = input()\n",
        "n1 = int( \"%s\" % a )\n",
        "n2 = int( \"%s%s\" % (a,a) )\n",
        "n3 = int( \"%s%s%s\" % (a,a,a) )\n",
        "n4 = int( \"%s%s%s%s\" % (a,a,a,a) )\n",
        "print(n1+n2+n3+n4)"
      ],
      "metadata": {
        "colab": {
          "base_uri": "https://localhost:8080/"
        },
        "id": "j_C33qtikFSF",
        "outputId": "250e99ee-b7c3-4361-afff-b330efd6cd08"
      },
      "execution_count": null,
      "outputs": [
        {
          "output_type": "stream",
          "name": "stdout",
          "text": [
            "9\n",
            "11106\n"
          ]
        }
      ]
    },
    {
      "cell_type": "markdown",
      "source": [
        "**Упражнение 16**\n",
        "\n",
        "Используйте понимание списка, чтобы возвести в квадрат каждое нечетное число в списке. В список вводится последовательность чисел, разделенных запятыми.\n"
      ],
      "metadata": {
        "id": "BsGF69XDkJEc"
      }
    },
    {
      "cell_type": "code",
      "source": [
        "values = input()\n",
        "numbers = [x for x in values.split(\",\") if int(x)%2!=0]\n",
        "print(\",\".join(numbers))"
      ],
      "metadata": {
        "colab": {
          "base_uri": "https://localhost:8080/"
        },
        "id": "AZdo75cokNWU",
        "outputId": "69cf0542-7c76-4b2e-a3be-2ca090fdeb99"
      },
      "execution_count": null,
      "outputs": [
        {
          "output_type": "stream",
          "name": "stdout",
          "text": [
            "1,2,3,4,5,6,7,8,9\n",
            "1,3,5,7,9\n"
          ]
        }
      ]
    },
    {
      "cell_type": "markdown",
      "source": [
        "**Упражнение 17**\n",
        "\n",
        "Определите функцию, которая может генерировать словарь, в котором ключами являются числа от 1 до 20 (оба включены), а значениями являются квадраты ключей. Функция должна просто печатать только значения."
      ],
      "metadata": {
        "id": "SGFw199okXMU"
      }
    },
    {
      "cell_type": "code",
      "source": [
        "def printDict():\n",
        "\td=dict()\n",
        "\tfor i in range(1,21):\n",
        "\t\td[i]=i**2\n",
        "\tfor (k,v) in d.items():\n",
        "\t\tprint(v)\n",
        "\n",
        "printDict()"
      ],
      "metadata": {
        "id": "QQ7VKTldkc-1",
        "colab": {
          "base_uri": "https://localhost:8080/"
        },
        "outputId": "17cdb75b-0a65-472f-8287-3bfbe891572d"
      },
      "execution_count": null,
      "outputs": [
        {
          "output_type": "stream",
          "name": "stdout",
          "text": [
            "1\n",
            "4\n",
            "9\n",
            "16\n",
            "25\n",
            "36\n",
            "49\n",
            "64\n",
            "81\n",
            "100\n",
            "121\n",
            "144\n",
            "169\n",
            "196\n",
            "225\n",
            "256\n",
            "289\n",
            "324\n",
            "361\n",
            "400\n"
          ]
        }
      ]
    },
    {
      "cell_type": "markdown",
      "source": [
        "**Упражнение 18**\n",
        "\n",
        "Веб-сайт требует от пользователей ввода имени пользователя и пароля для регистрации. Напишите программу для проверки правильности ввода пароля пользователями. Ниже приведены критерии проверки пароля:\n",
        "\n",
        "Хотя бы 1 буква между [az]\n",
        "Хотя бы 1 число между [0-9]\n",
        "Хотя бы 1 буква между [AZ]\n",
        "Хотя бы 1 символ из [$#@]\n",
        "Минимальная длина пароля транзакции: 6\n",
        "Максимальная длина пароля транзакции: 12. Ваша программа должна принимать последовательность паролей, разделенных запятыми, и проверять их в соответствии с вышеуказанными критериями. Пароли, соответствующие критериям, должны быть напечатаны, разделенные запятой."
      ],
      "metadata": {
        "id": "qFjrUmWZk0g9"
      }
    },
    {
      "cell_type": "code",
      "source": [
        "import re\n",
        "value = []\n",
        "items=[x for x in input().split(',')]\n",
        "for p in items:\n",
        "    if len(p)<6 or len(p)>12:\n",
        "        continue\n",
        "    else:\n",
        "        pass\n",
        "    if not re.search(\"[a-z]\",p):\n",
        "        continue\n",
        "    elif not re.search(\"[0-9]\",p):\n",
        "        continue\n",
        "    elif not re.search(\"[A-Z]\",p):\n",
        "        continue\n",
        "    elif not re.search(\"[$#@]\",p):\n",
        "        continue\n",
        "    elif re.search(\"\\s\",p):\n",
        "        continue\n",
        "    else:\n",
        "        pass\n",
        "    value.append(p)\n",
        "print(\",\".join(value))"
      ],
      "metadata": {
        "colab": {
          "base_uri": "https://localhost:8080/"
        },
        "id": "ct3UdBUak0Gl",
        "outputId": "d217f424-02f6-4c1f-e771-ba7a1be4b78d"
      },
      "execution_count": null,
      "outputs": [
        {
          "output_type": "stream",
          "name": "stdout",
          "text": [
            "ABd1234@1,a F1#,2w3E*,2We3345\n",
            "ABd1234@1\n"
          ]
        }
      ]
    },
    {
      "cell_type": "markdown",
      "source": [
        "**Упражнение 19**\n",
        "\n",
        "Имея заданный кортеж (1,2,3,4,5,6,7,8,9,10), напишите программу для печати первых половинных значений в одной строке и последних половинных значений в одной строке."
      ],
      "metadata": {
        "id": "qb5aSjDUlLw4"
      }
    },
    {
      "cell_type": "code",
      "source": [
        "tp=(1,2,3,4,5,6,7,8,9,10)\n",
        "tp1=tp[:5]\n",
        "tp2=tp[5:]\n",
        "print(tp1)\n",
        "print(tp2)"
      ],
      "metadata": {
        "colab": {
          "base_uri": "https://localhost:8080/"
        },
        "id": "1LdKnYaklRJY",
        "outputId": "35040b18-dd0c-4f25-cefd-703ae279a155"
      },
      "execution_count": null,
      "outputs": [
        {
          "output_type": "stream",
          "name": "stdout",
          "text": [
            "(1, 2, 3, 4, 5)\n",
            "(6, 7, 8, 9, 10)\n"
          ]
        }
      ]
    },
    {
      "cell_type": "markdown",
      "source": [
        "**Упражнение 20**\n",
        "\n",
        "Напишите программу, которая может фильтровать четные числа в списке, используя функцию фильтра. Список такой: [1,2,3,4,5,6,7,8,9,10]."
      ],
      "metadata": {
        "id": "T44h_cg3lsDM"
      }
    },
    {
      "cell_type": "code",
      "source": [
        "li = [1,2,3,4,5,6,7,8,9,10]\n",
        "evenNumbers = filter(lambda x: x%2==0, li)\n",
        "print(evenNumbers)"
      ],
      "metadata": {
        "id": "ogUgzPESl0I9",
        "outputId": "00b28bbc-2029-414d-9d96-191b1b5a6559",
        "colab": {
          "base_uri": "https://localhost:8080/"
        }
      },
      "execution_count": null,
      "outputs": [
        {
          "output_type": "stream",
          "name": "stdout",
          "text": [
            "<filter object at 0x7caacc326620>\n"
          ]
        }
      ]
    },
    {
      "cell_type": "markdown",
      "source": [
        "**Упражнение 21**\n",
        "\n",
        "Напишите программу, которая может фильтровать() для создания списка, элементы которого имеют четные числа от 1 до 20 (оба включены)."
      ],
      "metadata": {
        "id": "Sp84RjNSTRD_"
      }
    },
    {
      "cell_type": "code",
      "source": [
        "evenNumbers = filter(lambda x: x%2==0, range(1,21))\n",
        "print(evenNumbers)"
      ],
      "metadata": {
        "colab": {
          "base_uri": "https://localhost:8080/"
        },
        "id": "MJKXY7sGTaDn",
        "outputId": "21955beb-70c8-4450-e967-c2d954167161"
      },
      "execution_count": null,
      "outputs": [
        {
          "output_type": "stream",
          "name": "stdout",
          "text": [
            "<filter object at 0x7caacc326500>\n"
          ]
        }
      ]
    },
    {
      "cell_type": "markdown",
      "source": [
        "**Упражение 22**\n",
        "\n",
        "Напишите программу для вычисления 1/2+2/3+3/4+...+n/n+1 с заданным n, введенным через консоль (n>0)."
      ],
      "metadata": {
        "id": "LzsOcPO1TrQM"
      }
    },
    {
      "cell_type": "code",
      "source": [
        "n=int(input())\n",
        "sum=0.0\n",
        "for i in range(1,n+1):\n",
        "    sum += float(float(i)/(i+1))\n",
        "print(sum)"
      ],
      "metadata": {
        "colab": {
          "base_uri": "https://localhost:8080/"
        },
        "id": "U-Lyv1B-TqvU",
        "outputId": "aabb121e-9946-4eae-df53-8951626d6ec5"
      },
      "execution_count": null,
      "outputs": [
        {
          "output_type": "stream",
          "name": "stdout",
          "text": [
            "1\n",
            "0.5\n"
          ]
        }
      ]
    },
    {
      "cell_type": "markdown",
      "source": [
        "**Упражнение 23**\n",
        "\n",
        "Напишите метод, который может вычислить квадратное значение числа."
      ],
      "metadata": {
        "id": "cIv3482nUEur"
      }
    },
    {
      "cell_type": "code",
      "source": [
        "def square(num):\n",
        "    return num ** 2\n",
        "\n",
        "print(square(2))\n",
        "print(square(3))"
      ],
      "metadata": {
        "colab": {
          "base_uri": "https://localhost:8080/"
        },
        "id": "cZPlJ_AZUI2Y",
        "outputId": "566fa8b4-563a-42be-dd16-1338e04f26a4"
      },
      "execution_count": null,
      "outputs": [
        {
          "output_type": "stream",
          "name": "stdout",
          "text": [
            "4\n",
            "9\n"
          ]
        }
      ]
    },
    {
      "cell_type": "markdown",
      "source": [
        "**Упражнение 24**\n",
        "\n",
        "Python имеет множество встроенных функций, и если вы не знаете, как его использовать, вы можете прочитать документ в Интернете или найти несколько книг. Но в Python есть встроенная функция документа для каждой встроенной функции."
      ],
      "metadata": {
        "id": "UqMUJN6YULtY"
      }
    },
    {
      "cell_type": "code",
      "source": [
        "print(abs.__doc__)\n",
        "print(int.__doc__)\n",
        "print(input.__doc__)\n",
        "\n",
        "def square(num):\n",
        "    '''Return the square value of the input number.\n",
        "\n",
        "    The input number must be integer.\n",
        "    '''\n",
        "    return num ** 2\n",
        "\n",
        "print(square(2))\n",
        "print(square.__doc__)"
      ],
      "metadata": {
        "colab": {
          "base_uri": "https://localhost:8080/"
        },
        "id": "HB4c4ijAURd4",
        "outputId": "2963685e-45b2-4ee6-cc1d-e6ccbbe3c7aa"
      },
      "execution_count": null,
      "outputs": [
        {
          "output_type": "stream",
          "name": "stdout",
          "text": [
            "Return the absolute value of the argument.\n",
            "int([x]) -> integer\n",
            "int(x, base=10) -> integer\n",
            "\n",
            "Convert a number or string to an integer, or return 0 if no arguments\n",
            "are given.  If x is a number, return x.__int__().  For floating point\n",
            "numbers, this truncates towards zero.\n",
            "\n",
            "If x is not a number or if base is given, then x must be a string,\n",
            "bytes, or bytearray instance representing an integer literal in the\n",
            "given base.  The literal can be preceded by '+' or '-' and be surrounded\n",
            "by whitespace.  The base defaults to 10.  Valid bases are 0 and 2-36.\n",
            "Base 0 means to interpret the base from the string as an integer literal.\n",
            ">>> int('0b100', base=0)\n",
            "4\n",
            "Forward raw_input to frontends\n",
            "\n",
            "        Raises\n",
            "        ------\n",
            "        StdinNotImplementedError if active frontend doesn't support stdin.\n",
            "        \n",
            "4\n",
            "Return the square value of the input number.\n",
            "    \n",
            "    The input number must be integer.\n",
            "    \n"
          ]
        }
      ]
    },
    {
      "cell_type": "markdown",
      "source": [
        "**Упражнение 25**\n",
        "\n",
        "Определите класс, у которого есть параметр класса и один и тот же параметр экземпляра.\n",
        "\n"
      ],
      "metadata": {
        "id": "vAh27YesUTiX"
      }
    },
    {
      "cell_type": "code",
      "source": [
        "class Person:\n",
        "    # Define the class parameter \"name\"\n",
        "    name = \"Person\"\n",
        "\n",
        "    def __init__(self, name = None):\n",
        "        # self.name is the instance parameter\n",
        "        self.name = name\n",
        "\n",
        "jeffrey = Person(\"Jeffrey\")\n",
        "print(\"%s name is %s\" % (Person.name, jeffrey.name))\n",
        "\n",
        "nico = Person()\n",
        "nico.name = \"Nico\"\n",
        "print(\"%s name is %s\" % (Person.name, nico.name))"
      ],
      "metadata": {
        "colab": {
          "base_uri": "https://localhost:8080/"
        },
        "id": "-KG3qP90UYHt",
        "outputId": "be94b951-2327-4ed2-b252-e1b37f62bcac"
      },
      "execution_count": null,
      "outputs": [
        {
          "output_type": "stream",
          "name": "stdout",
          "text": [
            "Person name is Jeffrey\n",
            "Person name is Nico\n"
          ]
        }
      ]
    },
    {
      "cell_type": "markdown",
      "source": [
        "**Упражнение 26**\n",
        "\n",
        "Определите функцию, которая может вычислять сумму двух чисел."
      ],
      "metadata": {
        "id": "8xt_2YnFUXnl"
      }
    },
    {
      "cell_type": "code",
      "source": [
        "def SumFunction(number1, number2):\n",
        "\treturn number1+number2\n",
        "\n",
        "print(SumFunction(1,2))"
      ],
      "metadata": {
        "colab": {
          "base_uri": "https://localhost:8080/"
        },
        "id": "ovbPht8fUkvr",
        "outputId": "c2cce22b-a932-4919-a6df-5389f7a87a71"
      },
      "execution_count": null,
      "outputs": [
        {
          "output_type": "stream",
          "name": "stdout",
          "text": [
            "3\n"
          ]
        }
      ]
    },
    {
      "cell_type": "markdown",
      "source": [
        "**Упражнение 27**\n",
        "\n",
        "Определите функцию, которая может преобразовать целое число в строку и вывести ее на консоль."
      ],
      "metadata": {
        "id": "Q8lMbGMCUnjD"
      }
    },
    {
      "cell_type": "code",
      "source": [
        "def printValue(n):\n",
        "    print(str(n))\n",
        "\n",
        "printValue(3)"
      ],
      "metadata": {
        "colab": {
          "base_uri": "https://localhost:8080/"
        },
        "id": "LQQ7MmS1UsbT",
        "outputId": "6f08518a-8a87-43ed-fbea-d954c639f5b9"
      },
      "execution_count": null,
      "outputs": [
        {
          "output_type": "stream",
          "name": "stdout",
          "text": [
            "3\n"
          ]
        }
      ]
    },
    {
      "cell_type": "markdown",
      "source": [
        "**Упражнение 28**\n",
        "\n",
        "Определите функцию, которая может получать два целых числа в строковой форме, вычислять их сумму, а затем печатать ее в консоли."
      ],
      "metadata": {
        "id": "Udu2GbZJUt0b"
      }
    },
    {
      "cell_type": "code",
      "source": [
        "def printValue(s1,s2):\n",
        "    print(int(s1)+int(s2))\n",
        "\n",
        "printValue(\"3\",\"4\")"
      ],
      "metadata": {
        "colab": {
          "base_uri": "https://localhost:8080/"
        },
        "id": "zLRJJ7-xUzCY",
        "outputId": "8e9db10a-3cb0-4b43-fe6d-9aed8fcdc8da"
      },
      "execution_count": null,
      "outputs": [
        {
          "output_type": "stream",
          "name": "stdout",
          "text": [
            "7\n"
          ]
        }
      ]
    },
    {
      "cell_type": "markdown",
      "source": [
        "**Упражение 29**\n",
        "\n",
        "Определите функцию, которая может принимать на вход две строки и печатать строку максимальной длины в консоли. Если две строки имеют одинаковую длину, функция должна вывести все l строк построчно."
      ],
      "metadata": {
        "id": "eALgRe0wVGww"
      }
    },
    {
      "cell_type": "code",
      "source": [
        "def printValue(s1,s2):\n",
        "    len1 = len(s1)\n",
        "    len2 = len(s2)\n",
        "    if len1>len2:\n",
        "        print(s1)\n",
        "    elif len2>len1:\n",
        "        print(s2)\n",
        "    else:\n",
        "        print(s1)\n",
        "        print(s2)\n",
        "\n",
        "printValue(\"one\",\"three\")\n"
      ],
      "metadata": {
        "colab": {
          "base_uri": "https://localhost:8080/"
        },
        "id": "1_O-uDc_VLN4",
        "outputId": "95f5ec31-d5a1-4488-ff92-375cad2a4f95"
      },
      "execution_count": null,
      "outputs": [
        {
          "output_type": "stream",
          "name": "stdout",
          "text": [
            "three\n"
          ]
        }
      ]
    },
    {
      "cell_type": "markdown",
      "source": [
        "**Упражнение 30**\n",
        "\n",
        "Определите функцию, которая может принимать две строки в качестве входных данных, объединять их, а затем печатать в консоли."
      ],
      "metadata": {
        "id": "Wnyp3C3aU_zI"
      }
    },
    {
      "cell_type": "code",
      "source": [
        "def printValue(s1,s2):\n",
        "    print(s1+s2)\n",
        "\n",
        "printValue(\"3\",\"4\") #34"
      ],
      "metadata": {
        "colab": {
          "base_uri": "https://localhost:8080/"
        },
        "id": "R4z0SUbvVD5o",
        "outputId": "964e19c8-3a2c-44b1-db3d-f57cb2bb6b1e"
      },
      "execution_count": null,
      "outputs": [
        {
          "output_type": "stream",
          "name": "stdout",
          "text": [
            "34\n"
          ]
        }
      ]
    }
  ]
}